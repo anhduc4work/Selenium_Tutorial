{
 "cells": [
  {
   "cell_type": "code",
   "execution_count": 1,
   "metadata": {},
   "outputs": [],
   "source": [
    "from selenium.webdriver.chrome.service import Service as ChromeService\n",
    "from selenium import webdriver\n",
    "# 1. Khai báo browser\n",
    "\n",
    "service = ChromeService(executable_path = \"D:\\Selenium_Tutorial\\chromedriver.exe\")\n",
    "driver = webdriver.Chrome(service=service)"
   ]
  },
  {
   "cell_type": "code",
   "execution_count": 30,
   "metadata": {},
   "outputs": [
    {
     "data": {
      "text/plain": [
       "'Hỏi Vợ Ngoại Thành - H2K - YouTube'"
      ]
     },
     "execution_count": 30,
     "metadata": {},
     "output_type": "execute_result"
    }
   ],
   "source": [
    "driver.get('https://www.youtube.com/watch?v=eJBsfMHaa94&list=RDeJBsfMHaa94&start_radio=1')\n",
    "driver.maximize_window()\n",
    "driver.title"
   ]
  },
  {
   "cell_type": "code",
   "execution_count": 31,
   "metadata": {},
   "outputs": [],
   "source": [
    "from time import sleep\n",
    "sleep(10)"
   ]
  },
  {
   "cell_type": "code",
   "execution_count": 5,
   "metadata": {},
   "outputs": [
    {
     "data": {
      "text/plain": [
       "'@PhuLeOfficial'"
      ]
     },
     "execution_count": 5,
     "metadata": {},
     "output_type": "execute_result"
    }
   ],
   "source": [
    "from selenium.webdriver.common.by import By\n",
    "first_comment = driver.find_element(By.ID, \"name\")\n",
    "first_comment.text"
   ]
  },
  {
   "cell_type": "code",
   "execution_count": 32,
   "metadata": {},
   "outputs": [
    {
     "name": "stdout",
     "output_type": "stream",
     "text": [
      "['@PhuLeOfficial', '3 years ago'] nghe mãi mà vẫn thấy hay\n"
     ]
    },
    {
     "data": {
      "text/plain": [
       "(20, 20)"
      ]
     },
     "execution_count": 32,
     "metadata": {},
     "output_type": "execute_result"
    }
   ],
   "source": [
    "commentors = driver.find_elements(By.ID, \"header-author\")\n",
    "comments = driver.find_elements(By.ID, \"content-text\")\n",
    "commentors_name = [name.text.split('\\n') for name in commentors]\n",
    "comments_content = [cmt.text for cmt in comments]\n",
    "for who, what in zip(commentors_name, comments_content):\n",
    "    print(who, what)\n",
    "    break\n",
    "len(commentors_name), len(comments_content)"
   ]
  },
  {
   "cell_type": "code",
   "execution_count": 34,
   "metadata": {},
   "outputs": [
    {
     "data": {
      "text/plain": [
       "20"
      ]
     },
     "execution_count": 34,
     "metadata": {},
     "output_type": "execute_result"
    }
   ],
   "source": [
    "comments = driver.find_elements(By.CSS_SELECTOR, \"ytd-comment-thread-renderer\")\n",
    "comments_loaded = len(comments)\n",
    "comments_loaded"
   ]
  },
  {
   "cell_type": "code",
   "execution_count": 35,
   "metadata": {},
   "outputs": [
    {
     "name": "stdout",
     "output_type": "stream",
     "text": [
      "38\n",
      "55\n",
      "73\n",
      "100\n",
      "112\n",
      "129\n",
      "140\n",
      "160\n",
      "176\n",
      "196\n",
      "220\n",
      "240\n",
      "251\n",
      "No more content to scroll.\n",
      "Total comments loaded: 251\n"
     ]
    }
   ],
   "source": [
    "# import time\n",
    "last_height = driver.execute_script(\"return document.documentElement.scrollHeight\")\n",
    "retries = 0\n",
    "while True:\n",
    "    # Scroll down\n",
    "    driver.execute_script(\"window.scrollTo(0, document.documentElement.scrollHeight);\")\n",
    "    sleep(2)  # Wait for comments to load\n",
    "\n",
    "    # Count comments\n",
    "    comments = driver.find_elements(By.CSS_SELECTOR, \"ytd-comment-thread-renderer\")\n",
    "    new_count = len(comments)\n",
    "\n",
    "    # Check if new comments loaded\n",
    "    if new_count == comments_loaded:\n",
    "        retries += 1\n",
    "    else:\n",
    "        print(new_count)\n",
    "        comments_loaded = new_count\n",
    "        retries = 0\n",
    "\n",
    "    # Break if no new comments after a few retries\n",
    "    if retries > 5:\n",
    "        print(\"Reached the end of comments.\")\n",
    "        break\n",
    "\n",
    "    # Update the scroll height\n",
    "    new_height = driver.execute_script(\"return document.documentElement.scrollHeight\")\n",
    "    if new_height == last_height:\n",
    "        print(\"No more content to scroll.\")\n",
    "        break\n",
    "    last_height = new_height\n",
    "\n",
    "# Print the total number of comments loaded\n",
    "print(f\"Total comments loaded: {comments_loaded}\")"
   ]
  },
  {
   "cell_type": "code",
   "execution_count": 36,
   "metadata": {},
   "outputs": [
    {
     "data": {
      "text/plain": [
       "(251, 251)"
      ]
     },
     "execution_count": 36,
     "metadata": {},
     "output_type": "execute_result"
    }
   ],
   "source": [
    "commentors = driver.find_elements(By.ID, \"header-author\")\n",
    "comments = driver.find_elements(By.ID, \"content-text\")\n",
    "commentors_name = [name.text.split('\\n') for name in commentors]\n",
    "comments_content = [cmt.text for cmt in comments]\n",
    "len(commentors_name), len(comments_content)"
   ]
  },
  {
   "cell_type": "code",
   "execution_count": 47,
   "metadata": {},
   "outputs": [
    {
     "data": {
      "text/html": [
       "<div>\n",
       "<style scoped>\n",
       "    .dataframe tbody tr th:only-of-type {\n",
       "        vertical-align: middle;\n",
       "    }\n",
       "\n",
       "    .dataframe tbody tr th {\n",
       "        vertical-align: top;\n",
       "    }\n",
       "\n",
       "    .dataframe thead th {\n",
       "        text-align: right;\n",
       "    }\n",
       "</style>\n",
       "<table border=\"1\" class=\"dataframe\">\n",
       "  <thead>\n",
       "    <tr style=\"text-align: right;\">\n",
       "      <th></th>\n",
       "      <th>user</th>\n",
       "      <th>date</th>\n",
       "      <th>comment</th>\n",
       "    </tr>\n",
       "  </thead>\n",
       "  <tbody>\n",
       "    <tr>\n",
       "      <th>0</th>\n",
       "      <td>@PhuLeOfficial</td>\n",
       "      <td>3 years ago</td>\n",
       "      <td>nghe mãi mà vẫn thấy hay</td>\n",
       "    </tr>\n",
       "    <tr>\n",
       "      <th>1</th>\n",
       "      <td>@KeSiTinhMeme</td>\n",
       "      <td>3 years ago</td>\n",
       "      <td>Anh chị này đẹp đôi quá &lt;33</td>\n",
       "    </tr>\n",
       "    <tr>\n",
       "      <th>2</th>\n",
       "      <td>@Cà_vạt_của_Miyabi</td>\n",
       "      <td>3 years ago</td>\n",
       "      <td>Anh không biết anh sẽ ảnh hưởng lớn thế nào đế...</td>\n",
       "    </tr>\n",
       "    <tr>\n",
       "      <th>3</th>\n",
       "      <td>@thaitrung4093</td>\n",
       "      <td>3 years ago</td>\n",
       "      <td>Thích ông này thật sự,thích bolero rồi nhưng h...</td>\n",
       "    </tr>\n",
       "    <tr>\n",
       "      <th>4</th>\n",
       "      <td>@tanlocvo6188</td>\n",
       "      <td>3 years ago</td>\n",
       "      <td>Sẽ có một ngày\\nnơi ngoại thành xa anh sẽ về t...</td>\n",
       "    </tr>\n",
       "  </tbody>\n",
       "</table>\n",
       "</div>"
      ],
      "text/plain": [
       "                 user         date  \\\n",
       "0      @PhuLeOfficial  3 years ago   \n",
       "1       @KeSiTinhMeme  3 years ago   \n",
       "2  @Cà_vạt_của_Miyabi  3 years ago   \n",
       "3      @thaitrung4093  3 years ago   \n",
       "4       @tanlocvo6188  3 years ago   \n",
       "\n",
       "                                             comment  \n",
       "0                           nghe mãi mà vẫn thấy hay  \n",
       "1                        Anh chị này đẹp đôi quá <33  \n",
       "2  Anh không biết anh sẽ ảnh hưởng lớn thế nào đế...  \n",
       "3  Thích ông này thật sự,thích bolero rồi nhưng h...  \n",
       "4  Sẽ có một ngày\\nnơi ngoại thành xa anh sẽ về t...  "
      ]
     },
     "execution_count": 47,
     "metadata": {},
     "output_type": "execute_result"
    }
   ],
   "source": [
    "import pandas as pd\n",
    "df = pd.DataFrame(commentors_name, columns=['user','date'])\n",
    "df['comment'] = pd.Series(comments_content)\n",
    "df.head()"
   ]
  },
  {
   "cell_type": "code",
   "execution_count": null,
   "metadata": {},
   "outputs": [],
   "source": []
  }
 ],
 "metadata": {
  "kernelspec": {
   "display_name": "Python 3",
   "language": "python",
   "name": "python3"
  },
  "language_info": {
   "codemirror_mode": {
    "name": "ipython",
    "version": 3
   },
   "file_extension": ".py",
   "mimetype": "text/x-python",
   "name": "python",
   "nbconvert_exporter": "python",
   "pygments_lexer": "ipython3",
   "version": "3.11.9"
  }
 },
 "nbformat": 4,
 "nbformat_minor": 2
}
