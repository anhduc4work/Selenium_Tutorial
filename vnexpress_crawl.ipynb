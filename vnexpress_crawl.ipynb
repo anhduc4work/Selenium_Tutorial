{
 "cells": [
  {
   "cell_type": "code",
   "execution_count": 1,
   "metadata": {},
   "outputs": [],
   "source": [
    "from selenium import webdriver\n",
    "\n",
    "from selenium.webdriver.chrome.service import Service as ChromeService\n",
    "\n",
    "from webdriver_manager.chrome import ChromeDriverManager\n",
    "\n",
    "from selenium.webdriver.firefox.service import Service as FirefoxService\n",
    "from webdriver_manager.firefox import GeckoDriverManager\n",
    "\n",
    "from selenium.webdriver.chrome.options import Options as ChromeOptions\n",
    "from selenium.webdriver.common.by import By\n",
    "from selenium.webdriver.common.keys import Keys\n",
    "\n",
    "from selenium.webdriver.support import expected_conditions as EC\n",
    "from selenium.webdriver.support.ui import WebDriverWait\n",
    "\n",
    "import pandas as pd\n",
    "import os"
   ]
  },
  {
   "cell_type": "code",
   "execution_count": 6,
   "metadata": {},
   "outputs": [
    {
     "name": "stdout",
     "output_type": "stream",
     "text": [
      "Báo VnExpress - Báo tiếng Việt nhiều người xem nhất\n"
     ]
    }
   ],
   "source": [
    "# Chrome C:\\browser_drivers\\chromedriver\\chromedriver.exe\n",
    "service = ChromeService(executable_path=r\"D:\\Selenium\\chromedriver.exe\")\n",
    "driver = webdriver.Chrome(service=service)\n",
    "driver.get(\"https://vnexpress.net/\")\n",
    "driver.maximize_window()\n",
    "print(driver.title)"
   ]
  },
  {
   "cell_type": "code",
   "execution_count": 7,
   "metadata": {},
   "outputs": [],
   "source": [
    "current_handles = driver.window_handles"
   ]
  },
  {
   "cell_type": "code",
   "execution_count": 8,
   "metadata": {},
   "outputs": [],
   "source": [
    "# driver.quit() "
   ]
  },
  {
   "cell_type": "code",
   "execution_count": 9,
   "metadata": {},
   "outputs": [],
   "source": [
    "search = driver.find_element(By.ID, 'buttonSearchHeader')\n",
    "search.send_keys(Keys.RETURN)"
   ]
  },
  {
   "cell_type": "code",
   "execution_count": 10,
   "metadata": {},
   "outputs": [],
   "source": [
    "search = driver.find_element(By.ID, 'keywordHeader')"
   ]
  },
  {
   "cell_type": "code",
   "execution_count": 11,
   "metadata": {},
   "outputs": [],
   "source": [
    "search.send_keys('Hà Nội')"
   ]
  },
  {
   "cell_type": "code",
   "execution_count": 12,
   "metadata": {},
   "outputs": [],
   "source": [
    "search.send_keys(Keys.RETURN)\n",
    "# print(driver.title)"
   ]
  },
  {
   "cell_type": "code",
   "execution_count": 13,
   "metadata": {},
   "outputs": [
    {
     "name": "stdout",
     "output_type": "stream",
     "text": [
      "New tab title: Kết quả tin tức cho từ khóa Hà Nội\n"
     ]
    }
   ],
   "source": [
    "WebDriverWait(driver, 10).until(\n",
    "    lambda d: len(d.window_handles) > len(current_handles)\n",
    ")\n",
    "\n",
    "# Switch to the new tab\n",
    "new_tab = [handle for handle in driver.window_handles if handle not in current_handles][0]\n",
    "driver.switch_to.window(new_tab)\n",
    "\n",
    "# Perform actions in the new tab\n",
    "print(\"New tab title:\", driver.title)\n"
   ]
  },
  {
   "cell_type": "code",
   "execution_count": 14,
   "metadata": {},
   "outputs": [
    {
     "name": "stdout",
     "output_type": "stream",
     "text": [
      "Hà Nội có thêm hai trường chuyên\n",
      "THPT Chu Văn An và Sơn Tây trở thành trường chuyên từ ngày 15/1, nâng tổng số trường chuyên của Hà Nội lên 4 - nhiều nhất cả nước.\n",
      "34\n",
      "Canh măng ngày Tết cổ truyền Hà Nội\n",
      "Măng ngấu vị, giòn ngon, móng giò hầm vừa độ sần sật, nước canh ngọt tự nhiên. Đây là một trong những món canh tứ trụ trong cỗ Tết cổ truyền Hà Nội xưa.\n",
      "Nhà hàng 'Chợ tình Sapa' giữa lòng Hà Nội\n",
      "Nhà hàng thiết kế theo kiến trúc mộc mạc, cây rừng nhiệt đới bài trí khắp nơi, các món ăn mang đậm hương vị đặc trưng của núi rừng Tây Bắc.\n",
      "Hà Nội 'mất khách' vì ô nhiễm không khí\n",
      "Dự định khám phá phố cổ Hà Nội trong 5 ngày, song \"ngạt\" thở bởi khói xe và bụi mịn, Julia, du khách Đài Loan, cắt bỏ nhiều lịch trình, rời đi sau 3 ngày.\n",
      "60\n",
      "Năm nhà tạm ở Hà Nội bốc cháy\n",
      "Tối 9/1, ngọn lửa bùng lên tại năm ngôi nhà tạm rộng khoảng 200 m2 ở ngõ 136 Hồ Tùng Mậu, quận Bắc Từ Liêm, Hà Nội.\n",
      "Đại học Công nghiệp Hà Nội mở hai trường mới\n",
      "Trường Đại học Công nghiệp Hà Nội thành lập trường Công nghệ thông tin và Truyền thông, trường Điện - Điện tử, tiến tới thành \"đại học\" trong năm nay.\n",
      "Cháy quán cơm niêu ở Hà Nội\n",
      "Quán cơm niêu trong ngõ Ao Sen, quận Hà Đông bốc cháy ngùn ngụt, nhân viên phun dập lửa tại chỗ nhưng bất thành, sáng 27/12.\n",
      "Xôi vừng dừa Hà Nội\n",
      "Xôi mềm dẻo, quyện sần sật, bùi béo của dừa, thơm mùi vừng rang, vị ngọt nhẹ. Một bát xôi ấm nóng nhanh chóng xua tan đi cái rét đầu đông.\n",
      "Hà Nội có thêm siêu thị Aeon 15.000 m2\n",
      "Aeon Xuân Thủy khai trương ngày 10/1 có quy mô ba tầng, cung cấp đa dạng hàng hóa, chuỗi nhà hàng, đánh dấu bước tiến trong chiến lược mở rộng thị trường tại Việt Nam.\n",
      "Giả hạnh nhân - món ngon Tết xưa Hà Nội\n",
      "Đây là món ăn cổ truyền thường thấy trong cỗ Tết của các gia đình phố cổ, vừa toát lên sự tinh tế, ý nhị vừa thể hiện được tinh thần tiết kiệm, sáng tạo của người Hà Nội xưa.\n",
      "Không khí Hà Nội đang rất xấu\n",
      "Chất lượng không khí ở Hà Nội chuyển xấu từ hai hôm nay, trong đó nghiêm trọng nhất là Minh Khai, quận Bắc Từ Liêm với chỉ số AQI lên 380.\n",
      "186\n",
      "Cột cờ Hà Nội có tên gọi khác là gì?\n",
      "Cột cờ Hà Nội mở cửa lại cho khách tham quan từ 1/1, công trình được xem là chứng nhân của lịch sử thủ đô, hút khách trong và ngoài nước.\n",
      "Quán cà phê với mô hình khủng long gây chú ý ở Hà Nội\n",
      "Quán cà phê mới mở trong ngõ ở quận Ba Đình hút khách nhờ không gian hoài cổ và trưng bày mô hình xương khủng long kích thước lớn bằng xốp.\n",
      "Đại học Bách khoa Hà Nội giảm xét tuyển bằng điểm thi tốt nghiệp\n",
      "Đại học Bách khoa Hà Nội (HUST) giữ ba phương thức tuyển sinh như trước nhưng giảm 10% chỉ tiêu xét tuyển bằng điểm thi tốt nghiệp và bổ sung một tổ hợp mới có môn Ngữ văn.\n",
      "Đường Hà Nội, TP HCM ùn tắc ngày đêm dịp cận Tết\n",
      "Nhu cầu đi lại mua sắm tăng cao, người dân thay đổi thói quen đi đường khi Nghị định 168 hiệu lực khiến nhiều tuyến đường ở Hà Nội, TP HCM ùn tắc kéo dài.\n",
      "385\n",
      "Cháo sườn Hà Nội\n",
      "Bát cháo nóng hổi sánh mịn, quánh dẻo, sườn mềm vừa đủ có chút sần sật, quẩy giòn tan, ruốc ngọt thơm quyện vị the cay từ hạt tiêu, ớt bột kích thích vị giác ngày thu đông.\n",
      "Công an Hà Nội vào tứ kết Cup Quốc gia sau 23 năm\n",
      "HÀ NỘICông an Hà Nội thắng Hà Tĩnh 2-1 ở phút bù hiệp hai, để lần đầu vào tứ kết Cup Quốc gia kể từ mùa 2001-2002.\n",
      "10\n",
      "Hà Nội ô nhiễm không khí diện rộng, mức xấu\n",
      "Sáng 3/1, tất cả trạm quan trắc nội, ngoại thành của Sở Tài nguyên và Môi trường Hà Nội cho thấy chất lượng không khí đang ô nhiễm ở mức rất xấu trở lên.\n",
      "119\n",
      "3 tỷ đồng, đầu tư nhà đất hay chung cư ở Hà Nội?\n",
      "Tôi phân vân với vốn 3 tỷ đồng nên mua đất gần trường học sau đó cho thuê hay mua chung cư ở Hà Nội.\n",
      "33\n",
      "10 tỉnh, thành có nhiều học sinh đỗ Đại học Y Hà Nội nhất\n",
      "10 tỉnh, thành có nhiều học sinh đỗ Đại học Y Hà Nội (HMU) nhất trong ba năm qua, dẫn đầu là Hà Nội, Thanh Hóa.\n",
      "24\n",
      "Chàng trai Hà Nội kiếm bộn tiền nhờ đồ gốm xấu xí\n",
      "Những chiếc bát, cốc, chén, gạt tàn méo mó, hình thù kỳ dị do Vũ Tuấn Long tự làm được rất nhiều khách đặt mua, mang về lợi nhuận 60 triệu đồng mỗi tháng.\n",
      "24\n",
      "Chả rươi Hà Nội\n",
      "Cuối thu đầu đông, người Hà thành luôn nhắc câu 'Tháng Chín đôi mươi. Tháng Mười mùng năm'' với món chả rươi trứ danh mà ai thưởng thức một lần đều nhớ mãi.\n",
      "21\n",
      "Thủ tướng yêu cầu khắc phục ùn tắc giao thông tại Hà Nội và TP HCM\n",
      "Thủ tướng giao Bộ Công an phối hợp với Bộ Giao thông Vận tải và TP Hà Nội, TP HCM tổ chức giao thông khoa học, hợp lý để nhanh chóng khắc phục ùn tắc tại hai thành phố.\n",
      "163\n",
      "Chữa bệnh tâm thần bằng thiền\n",
      "HÀ NỘI10h sáng, tại phòng thiền Bệnh viện Tâm thần Mai Hương, Phong cùng 6 bệnh nhân khác ngồi ngay ngắn trên tấm thảm, mắt nhắm, cơ thể thả lỏng.\n"
     ]
    }
   ],
   "source": [
    "try:\n",
    "    main = WebDriverWait(driver, 10).until(\n",
    "        EC.presence_of_element_located((By.ID, \"result_search\"))\n",
    "    )\n",
    "    print(main.text)\n",
    "except:\n",
    "    driver.quit()\n"
   ]
  },
  {
   "cell_type": "code",
   "execution_count": null,
   "metadata": {},
   "outputs": [],
   "source": []
  }
 ],
 "metadata": {
  "kernelspec": {
   "display_name": "Python 3",
   "language": "python",
   "name": "python3"
  },
  "language_info": {
   "codemirror_mode": {
    "name": "ipython",
    "version": 3
   },
   "file_extension": ".py",
   "mimetype": "text/x-python",
   "name": "python",
   "nbconvert_exporter": "python",
   "pygments_lexer": "ipython3",
   "version": "3.11.9"
  }
 },
 "nbformat": 4,
 "nbformat_minor": 2
}
